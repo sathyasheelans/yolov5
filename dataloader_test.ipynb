{
 "cells": [
  {
   "cell_type": "code",
   "execution_count": 55,
   "id": "cdeec88c-fdae-47a5-95f3-356a193baea7",
   "metadata": {},
   "outputs": [
    {
     "name": "stdout",
     "output_type": "stream",
     "text": [
      "The autoreload extension is already loaded. To reload it, use:\n",
      "  %reload_ext autoreload\n"
     ]
    }
   ],
   "source": [
    "%load_ext autoreload\n",
    "%autoreload 2\n"
   ]
  },
  {
   "cell_type": "code",
   "execution_count": 56,
   "id": "9d66df89-1deb-4a2e-b610-63816e744b7d",
   "metadata": {},
   "outputs": [
    {
     "name": "stdout",
     "output_type": "stream",
     "text": [
      "[Errno 2] No such file or directory: 'yolov5'\n",
      "/Users/sathya/Desktop/Learning/yolov5\n",
      "CITATION.cff          \u001b[34mclassify\u001b[m\u001b[m              pyproject.toml\n",
      "CONTRIBUTING.md       \u001b[34mdata\u001b[m\u001b[m                  requirements.txt\n",
      "LICENSE               dataloader_test.ipynb \u001b[34msegment\u001b[m\u001b[m\n",
      "Mask_generation.ipynb detect.py             train.py\n",
      "README.md             export.py             tutorial.ipynb\n",
      "README.zh-CN.md       hubconf.py            \u001b[34mutils\u001b[m\u001b[m\n",
      "benchmarks.py         \u001b[34mmodels\u001b[m\u001b[m                val.py\n"
     ]
    }
   ],
   "source": [
    "%pwd\n",
    "%cd yolov5\n",
    "\n",
    "!ls"
   ]
  },
  {
   "cell_type": "code",
   "execution_count": 57,
   "id": "eab0bde8-f47e-4600-bc6e-fded94982155",
   "metadata": {},
   "outputs": [
    {
     "name": "stderr",
     "output_type": "stream",
     "text": [
      "YOLOv5 🚀 v7.0-393-gab76ab11 Python-3.11.10 torch-2.2.2 CPU\n"
     ]
    },
    {
     "name": "stdout",
     "output_type": "stream",
     "text": [
      "Setup complete ✅ (8 CPUs, 16.0 GB RAM, 494.3/926.4 GB disk)\n"
     ]
    }
   ],
   "source": [
    "import torch\n",
    "import utils\n",
    "display = utils.notebook_init()  # checks"
   ]
  },
  {
   "cell_type": "code",
   "execution_count": 83,
   "id": "0527db28-c158-4c07-b44a-2491e94ad600",
   "metadata": {},
   "outputs": [
    {
     "name": "stderr",
     "output_type": "stream",
     "text": [
      "Scanning /Users/sathya/Desktop/Learning/Image_Recog/YoloV5/YoloV5_Mask/datasets/coco/labels/val2017... 4904 images, 48 backgrounds, 0 corrupt:  99%|█████████▉| 4952/5000 [00:05<00:00, 847.28it/s] \n",
      "New cache created: /Users/sathya/Desktop/Learning/Image_Recog/YoloV5/YoloV5_Mask/datasets/coco/labels/val2017.cache\n"
     ]
    }
   ],
   "source": [
    "from utils.dataloaders import LoadImagesAndLabels\n",
    "\n",
    "dataset = LoadImagesAndLabels('/Users/sathya/Desktop/Learning/Image_Recog/YoloV5/YoloV5_Mask/datasets/coco/',augment=True,hyp = {\n",
    "    \"fl_gamma\": 0.0,       # Focal loss gamma\n",
    "    \"hsv_h\": 0.015,        # HSV-Hue augmentation\n",
    "    \"hsv_s\": 0.7,          # HSV-Saturation augmentation\n",
    "    \"hsv_v\": 0.4,          # HSV-Value augmentation\n",
    "    \"degrees\": 0.0,        # Rotation\n",
    "    \"translate\": 0.1,      # Translation\n",
    "    \"scale\": 0.9,          # Scaling\n",
    "    \"shear\": 0.0,          # Shearing\n",
    "    \"perspective\": 0.0,    # Perspective\n",
    "    \"flipud\": 0.0,         # Vertical flip probability\n",
    "    \"fliplr\": 0.5,         # Horizontal flip probability\n",
    "    \"mosaic\": 1.0,         # Mosaic augmentation probability\n",
    "    \"mixup\": 0.1,          # Mixup augmentation probability\n",
    "    \"copy_paste\": 0.0      # Copy-paste augmentation probability\n",
    "})\n",
    "\n",
    "\n"
   ]
  },
  {
   "cell_type": "code",
   "execution_count": 78,
   "id": "db018385-63b8-4e52-84ad-a3829163fdd0",
   "metadata": {},
   "outputs": [
    {
     "data": {
      "text/plain": [
       "0.8"
      ]
     },
     "execution_count": 78,
     "metadata": {},
     "output_type": "execute_result"
    }
   ],
   "source": [
    "dataset.cache_version"
   ]
  },
  {
   "cell_type": "code",
   "execution_count": 68,
   "id": "00eb47f5-da2b-4fad-b932-04fddd1112c0",
   "metadata": {},
   "outputs": [
    {
     "data": {
      "text/plain": [
       "4952"
      ]
     },
     "execution_count": 68,
     "metadata": {},
     "output_type": "execute_result"
    }
   ],
   "source": [
    "len(dataset.mask_files)"
   ]
  },
  {
   "cell_type": "code",
   "execution_count": 69,
   "id": "983d6129-ca94-4932-9310-4812ddc4ce58",
   "metadata": {},
   "outputs": [
    {
     "data": {
      "text/plain": [
       "'/Users/sathya/Desktop/Learning/Image_Recog/YoloV5/YoloV5_Mask/datasets/coco/labels/val2017/000000000139.txt'"
      ]
     },
     "execution_count": 69,
     "metadata": {},
     "output_type": "execute_result"
    }
   ],
   "source": [
    "dataset.label_files[0]"
   ]
  },
  {
   "cell_type": "code",
   "execution_count": 70,
   "id": "bbf93256-7104-461f-a117-f842c19bf222",
   "metadata": {},
   "outputs": [
    {
     "data": {
      "text/plain": [
       "'/Users/sathya/Desktop/Learning/Image_Recog/YoloV5/YoloV5_Mask/datasets/coco/images/mask/000000000139.png'"
      ]
     },
     "execution_count": 70,
     "metadata": {},
     "output_type": "execute_result"
    }
   ],
   "source": [
    "dataset.mask_files[0]"
   ]
  },
  {
   "cell_type": "code",
   "execution_count": 84,
   "id": "527cc6ce-98a9-4793-8602-8a751096d013",
   "metadata": {},
   "outputs": [
    {
     "data": {
      "text/plain": [
       "torch.Size([3, 640, 640])"
      ]
     },
     "execution_count": 84,
     "metadata": {},
     "output_type": "execute_result"
    }
   ],
   "source": [
    "dataset[0][0].shape"
   ]
  },
  {
   "cell_type": "code",
   "execution_count": 85,
   "id": "5ba54482-2410-424d-ad58-0874fc6d7b49",
   "metadata": {},
   "outputs": [
    {
     "data": {
      "text/plain": [
       "torch.Size([640, 640])"
      ]
     },
     "execution_count": 85,
     "metadata": {},
     "output_type": "execute_result"
    }
   ],
   "source": [
    "dataset[0][1].shape"
   ]
  },
  {
   "cell_type": "code",
   "execution_count": 88,
   "id": "809e3001-1ec2-4543-8464-df401a7fcc27",
   "metadata": {},
   "outputs": [
    {
     "name": "stdout",
     "output_type": "stream",
     "text": [
      "Labels:\n",
      "tensor([[0.00000e+00, 5.80000e+01, 5.22362e-01, 3.94457e-01, 1.29614e-02, 3.64702e-02],\n",
      "        [0.00000e+00, 6.20000e+01, 4.34393e-01, 4.14363e-01, 7.83555e-02, 4.97832e-02],\n",
      "        [0.00000e+00, 6.20000e+01, 7.05266e-01, 4.31869e-01, 4.26883e-02, 4.13136e-02],\n",
      "        [0.00000e+00, 5.60000e+01, 5.94594e-01, 4.42842e-01, 2.93860e-02, 5.39600e-02],\n",
      "        [0.00000e+00, 5.60000e+01, 5.60288e-01, 4.41674e-01, 3.24451e-02, 5.16774e-02],\n",
      "        [0.00000e+00, 5.60000e+01, 6.16268e-01, 4.39811e-01, 1.58318e-02, 4.26937e-02],\n",
      "        [0.00000e+00, 5.60000e+01, 5.63744e-01, 4.19527e-01, 1.13242e-02, 6.08196e-03],\n",
      "        [0.00000e+00, 0.00000e+00, 6.22062e-01, 4.20356e-01, 2.78381e-02, 7.24207e-02],\n",
      "        [0.00000e+00, 0.00000e+00, 5.97223e-01, 4.01184e-01, 7.93424e-03, 1.87546e-02],\n",
      "        [0.00000e+00, 6.80000e+01, 6.64181e-01, 4.13597e-01, 7.73473e-03, 8.38017e-03],\n",
      "        [0.00000e+00, 7.20000e+01, 6.55604e-01, 4.21342e-01, 1.06472e-02, 5.68357e-02],\n",
      "        [0.00000e+00, 7.30000e+01, 7.12641e-01, 4.73949e-01, 7.52482e-03, 2.39862e-02],\n",
      "        [0.00000e+00, 7.30000e+01, 7.16703e-01, 4.75373e-01, 6.75879e-03, 2.43694e-02],\n",
      "        [0.00000e+00, 7.40000e+01, 6.30159e-01, 3.70738e-01, 7.33075e-03, 1.14816e-02],\n",
      "        [0.00000e+00, 7.50000e+01, 6.89269e-01, 4.87340e-01, 1.92480e-02, 4.70543e-02],\n",
      "        [0.00000e+00, 7.50000e+01, 5.78570e-01, 4.16945e-01, 5.96652e-03, 1.18331e-02],\n",
      "        [0.00000e+00, 5.60000e+01, 6.10381e-01, 4.19655e-01, 5.05338e-03, 6.56996e-03],\n",
      "        [0.00000e+00, 7.50000e+01, 5.21848e-01, 4.08386e-01, 7.46202e-03, 9.25131e-03],\n",
      "        [0.00000e+00, 7.50000e+01, 5.70809e-01, 4.10517e-01, 5.10578e-03, 8.77900e-03],\n",
      "        [0.00000e+00, 6.00000e+01, 5.93025e-01, 4.46105e-01, 6.58878e-02, 4.66660e-02]])\n"
     ]
    },
    {
     "data": {
      "image/png": "[encoded data removed]",
      "text/plain": [
       "<Figure size 1000x500 with 2 Axes>"
      ]
     },
     "metadata": {},
     "output_type": "display_data"
    }
   ],
   "source": [
    "import torch\n",
    "import matplotlib.pyplot as plt\n",
    "\n",
    "# Assuming the function returns the following\n",
    "img_tensor, mask_tensor, labels_out, file_name, shapes = dataset[0]\n",
    "\n",
    "# Convert tensors to numpy arrays for visualization\n",
    "img = img_tensor.numpy()\n",
    "mask = mask_tensor.numpy()\n",
    "\n",
    "# Convert the image tensor from (C, H, W) to (H, W, C) if it's RGB\n",
    "if img.ndim == 3:  # RGB image\n",
    "    img = img.transpose(1, 2, 0)  # Convert from (C, H, W) to (H, W, C)\n",
    "\n",
    "# No transpose required for mask if it is grayscale\n",
    "# Just ensure the mask remains a 2D array if it is grayscale\n",
    "if mask.ndim == 3 and mask.shape[0] == 1:  # Single channel, remove channel dimension\n",
    "    mask = mask.squeeze(0)  # Convert from (1, H, W) to (H, W)\n",
    "\n",
    "# Print labels\n",
    "print(\"Labels:\")\n",
    "print(labels_out)\n",
    "\n",
    "# Display the image and mask\n",
    "plt.figure(figsize=(10, 5))\n",
    "\n",
    "# Show the image\n",
    "plt.subplot(1, 2, 1)\n",
    "plt.imshow(img, cmap='gray' if img.ndim == 2 else None)  # Use grayscale cmap if 2D\n",
    "plt.title(\"Image\")\n",
    "plt.axis('off')\n",
    "\n",
    "# Show the mask\n",
    "plt.subplot(1, 2, 2)\n",
    "plt.imshow(mask, cmap='gray')  # Always display the mask as grayscale\n",
    "plt.title(\"Mask\")\n",
    "plt.axis('off')\n",
    "\n",
    "plt.show()\n"
   ]
  },
  {
   "cell_type": "code",
   "execution_count": 89,
   "id": "25fb66fe-d148-4d4e-92a3-f5041f3778db",
   "metadata": {},
   "outputs": [
    {
     "data": {
      "text/plain": [
       "5"
      ]
     },
     "execution_count": 89,
     "metadata": {},
     "output_type": "execute_result"
    }
   ],
   "source": [
    "len(dataset[10])"
   ]
  },
  {
   "cell_type": "code",
   "execution_count": 90,
   "id": "2f38f522-47be-4f67-9559-5fc4f749caa2",
   "metadata": {},
   "outputs": [
    {
     "data": {
      "text/plain": [
       "tensor([[[83, 83, 83,  ..., 83, 83, 83],\n",
       "         [83, 83, 83,  ..., 83, 83, 83],\n",
       "         [83, 83, 83,  ..., 83, 83, 83],\n",
       "         ...,\n",
       "         [83, 83, 83,  ..., 83, 83, 83],\n",
       "         [83, 83, 83,  ..., 83, 83, 83],\n",
       "         [83, 83, 83,  ..., 83, 83, 83]],\n",
       "\n",
       "        [[83, 83, 83,  ..., 83, 83, 83],\n",
       "         [83, 83, 83,  ..., 83, 83, 83],\n",
       "         [83, 83, 83,  ..., 83, 83, 83],\n",
       "         ...,\n",
       "         [83, 83, 83,  ..., 83, 83, 83],\n",
       "         [83, 83, 83,  ..., 83, 83, 83],\n",
       "         [83, 83, 83,  ..., 83, 83, 83]],\n",
       "\n",
       "        [[83, 83, 83,  ..., 83, 83, 83],\n",
       "         [83, 83, 83,  ..., 83, 83, 83],\n",
       "         [83, 83, 83,  ..., 83, 83, 83],\n",
       "         ...,\n",
       "         [83, 83, 83,  ..., 83, 83, 83],\n",
       "         [83, 83, 83,  ..., 83, 83, 83],\n",
       "         [83, 83, 83,  ..., 83, 83, 83]]], dtype=torch.uint8)"
      ]
     },
     "execution_count": 90,
     "metadata": {},
     "output_type": "execute_result"
    }
   ],
   "source": [
    "dataset[101][0]"
   ]
  },
  {
   "cell_type": "code",
   "execution_count": 91,
   "id": "47ab42df-7f0b-49f4-a9f5-78eaba49f41e",
   "metadata": {},
   "outputs": [
    {
     "data": {
      "text/plain": [
       "((640, 586), ((1.0, 1.0), (27.0, 0.0)))"
      ]
     },
     "execution_count": 91,
     "metadata": {},
     "output_type": "execute_result"
    }
   ],
   "source": [
    "dataset[1][4]"
   ]
  },
  {
   "cell_type": "code",
   "execution_count": null,
   "id": "423f6302-30bd-41bd-9495-27ccb20d893f",
   "metadata": {},
   "outputs": [],
   "source": []
  }
 ],
 "metadata": {
  "kernelspec": {
   "display_name": "YOLOV5",
   "language": "python",
   "name": "python3"
  },
  "language_info": {
   "codemirror_mode": {
    "name": "ipython",
    "version": 3
   },
   "file_extension": ".py",
   "mimetype": "text/x-python",
   "name": "python",
   "nbconvert_exporter": "python",
   "pygments_lexer": "ipython3",
   "version": "3.11.10"
  }
 },
 "nbformat": 4,
 "nbformat_minor": 5
}
